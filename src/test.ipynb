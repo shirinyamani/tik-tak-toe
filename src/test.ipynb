{
 "cells": [
  {
   "cell_type": "code",
   "execution_count": 3,
   "metadata": {},
   "outputs": [],
   "source": [
    "import random"
   ]
  },
  {
   "cell_type": "code",
   "execution_count": 49,
   "metadata": {},
   "outputs": [],
   "source": [
    "class TikTok:\n",
    "    #TODO: ADD start game method\n",
    "    #TODO: ADD end game method\n",
    "    def __init__(self):\n",
    "        self.board = list(map(str, range(10)))\n",
    "        self.player_turn = 'X'\n",
    "        \n",
    "        \n",
    "    def show_board(self):\n",
    "        print(\"\\n\")\n",
    "        print(self.board[1] + '|' + self.board[2] + '|' + self.board[3])\n",
    "        print('-'*5)\n",
    "        \n",
    "        print(self.board[4] + '|' + self.board[5] + '|' + self.board[6])\n",
    "        print('-'*5)\n",
    "        \n",
    "        print(self.board[7] + '|' + self.board[8] + '|' + self.board[9])\n",
    "        \n",
    "    \n",
    "    def swap_player_turn(self):\n",
    "        self.player_turn = 'X' if self.player_turn == 'O' else 'O'\n",
    "        return self.player_turn\n",
    "        \n",
    "        \n",
    "    def is_board_filled(self):\n",
    "        return ' ' not in self.board[1:]\n",
    "    \n",
    "    def fix_spot(self, cell, player):\n",
    "        self.board[cell] = player\n",
    "        \n",
    "        \n",
    "    def has_player_win(self, player):\n",
    "        win_combo = [\n",
    "            [1,2,3], [4,5,6], [7,8,9],\n",
    "            [1,4,7], [2,5,8], [3,6,9],\n",
    "            [1,5,9], [3,5,7]\n",
    "        ]\n",
    "    \n",
    "        \n",
    "        \n",
    "  "
   ]
  },
  {
   "cell_type": "code",
   "execution_count": 55,
   "metadata": {},
   "outputs": [
    {
     "data": {
      "text/plain": [
       "'O'"
      ]
     },
     "execution_count": 55,
     "metadata": {},
     "output_type": "execute_result"
    }
   ],
   "source": [
    "game = TikTok()\n",
    "          \n",
    "game.swap_player_turn()\n",
    "        \n",
    "\n",
    "    "
   ]
  },
  {
   "cell_type": "markdown",
   "metadata": {},
   "source": [
    "- Tik TOC  class\n",
    "    - Pc player\n",
    "    - Choose winner\n",
    "    - is the board full\n",
    "    - swap player turn \n",
    "    - fixed spot "
   ]
  },
  {
   "cell_type": "markdown",
   "metadata": {},
   "source": []
  }
 ],
 "metadata": {
  "kernelspec": {
   "display_name": "ali-ml",
   "language": "python",
   "name": "python3"
  },
  "language_info": {
   "codemirror_mode": {
    "name": "ipython",
    "version": 3
   },
   "file_extension": ".py",
   "mimetype": "text/x-python",
   "name": "python",
   "nbconvert_exporter": "python",
   "pygments_lexer": "ipython3",
   "version": "3.10.13"
  }
 },
 "nbformat": 4,
 "nbformat_minor": 2
}
